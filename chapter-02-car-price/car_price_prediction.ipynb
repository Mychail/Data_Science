{
 "cells": [
  {
   "cell_type": "code",
   "execution_count": 1,
   "id": "bc8afbab-4920-465d-8cf3-109c10cbc93a",
   "metadata": {},
   "outputs": [],
   "source": [
    "import numpy as np\n",
    "import pandas as pd\n",
    "import matplotlib.pyplot as plt\n",
    "import seaborn as sns\n",
    "%matplotlib inline"
   ]
  },
  {
   "cell_type": "code",
   "execution_count": 2,
   "id": "f98fd7c3-a4f2-4f40-9d29-1fa7ed4a2d12",
   "metadata": {},
   "outputs": [
    {
     "data": {
      "text/plain": [
       "11914"
      ]
     },
     "execution_count": 2,
     "metadata": {},
     "output_type": "execute_result"
    }
   ],
   "source": [
    "df = pd.read_csv(\"data.csv\")\n",
    "len(df)"
   ]
  },
  {
   "cell_type": "code",
   "execution_count": 3,
   "id": "93ad22dd-2878-4f52-9be5-f209146c17e3",
   "metadata": {},
   "outputs": [
    {
     "data": {
      "text/html": [
       "<div>\n",
       "<style scoped>\n",
       "    .dataframe tbody tr th:only-of-type {\n",
       "        vertical-align: middle;\n",
       "    }\n",
       "\n",
       "    .dataframe tbody tr th {\n",
       "        vertical-align: top;\n",
       "    }\n",
       "\n",
       "    .dataframe thead th {\n",
       "        text-align: right;\n",
       "    }\n",
       "</style>\n",
       "<table border=\"1\" class=\"dataframe\">\n",
       "  <thead>\n",
       "    <tr style=\"text-align: right;\">\n",
       "      <th></th>\n",
       "      <th>Make</th>\n",
       "      <th>Model</th>\n",
       "      <th>Year</th>\n",
       "      <th>Engine Fuel Type</th>\n",
       "      <th>Engine HP</th>\n",
       "      <th>Engine Cylinders</th>\n",
       "      <th>Transmission Type</th>\n",
       "      <th>Driven_Wheels</th>\n",
       "      <th>Number of Doors</th>\n",
       "      <th>Market Category</th>\n",
       "      <th>Vehicle Size</th>\n",
       "      <th>Vehicle Style</th>\n",
       "      <th>highway MPG</th>\n",
       "      <th>city mpg</th>\n",
       "      <th>Popularity</th>\n",
       "      <th>MSRP</th>\n",
       "    </tr>\n",
       "  </thead>\n",
       "  <tbody>\n",
       "    <tr>\n",
       "      <th>0</th>\n",
       "      <td>BMW</td>\n",
       "      <td>1 Series M</td>\n",
       "      <td>2011</td>\n",
       "      <td>premium unleaded (required)</td>\n",
       "      <td>335.0</td>\n",
       "      <td>6.0</td>\n",
       "      <td>MANUAL</td>\n",
       "      <td>rear wheel drive</td>\n",
       "      <td>2.0</td>\n",
       "      <td>Factory Tuner,Luxury,High-Performance</td>\n",
       "      <td>Compact</td>\n",
       "      <td>Coupe</td>\n",
       "      <td>26</td>\n",
       "      <td>19</td>\n",
       "      <td>3916</td>\n",
       "      <td>46135</td>\n",
       "    </tr>\n",
       "    <tr>\n",
       "      <th>1</th>\n",
       "      <td>BMW</td>\n",
       "      <td>1 Series</td>\n",
       "      <td>2011</td>\n",
       "      <td>premium unleaded (required)</td>\n",
       "      <td>300.0</td>\n",
       "      <td>6.0</td>\n",
       "      <td>MANUAL</td>\n",
       "      <td>rear wheel drive</td>\n",
       "      <td>2.0</td>\n",
       "      <td>Luxury,Performance</td>\n",
       "      <td>Compact</td>\n",
       "      <td>Convertible</td>\n",
       "      <td>28</td>\n",
       "      <td>19</td>\n",
       "      <td>3916</td>\n",
       "      <td>40650</td>\n",
       "    </tr>\n",
       "    <tr>\n",
       "      <th>2</th>\n",
       "      <td>BMW</td>\n",
       "      <td>1 Series</td>\n",
       "      <td>2011</td>\n",
       "      <td>premium unleaded (required)</td>\n",
       "      <td>300.0</td>\n",
       "      <td>6.0</td>\n",
       "      <td>MANUAL</td>\n",
       "      <td>rear wheel drive</td>\n",
       "      <td>2.0</td>\n",
       "      <td>Luxury,High-Performance</td>\n",
       "      <td>Compact</td>\n",
       "      <td>Coupe</td>\n",
       "      <td>28</td>\n",
       "      <td>20</td>\n",
       "      <td>3916</td>\n",
       "      <td>36350</td>\n",
       "    </tr>\n",
       "    <tr>\n",
       "      <th>3</th>\n",
       "      <td>BMW</td>\n",
       "      <td>1 Series</td>\n",
       "      <td>2011</td>\n",
       "      <td>premium unleaded (required)</td>\n",
       "      <td>230.0</td>\n",
       "      <td>6.0</td>\n",
       "      <td>MANUAL</td>\n",
       "      <td>rear wheel drive</td>\n",
       "      <td>2.0</td>\n",
       "      <td>Luxury,Performance</td>\n",
       "      <td>Compact</td>\n",
       "      <td>Coupe</td>\n",
       "      <td>28</td>\n",
       "      <td>18</td>\n",
       "      <td>3916</td>\n",
       "      <td>29450</td>\n",
       "    </tr>\n",
       "    <tr>\n",
       "      <th>4</th>\n",
       "      <td>BMW</td>\n",
       "      <td>1 Series</td>\n",
       "      <td>2011</td>\n",
       "      <td>premium unleaded (required)</td>\n",
       "      <td>230.0</td>\n",
       "      <td>6.0</td>\n",
       "      <td>MANUAL</td>\n",
       "      <td>rear wheel drive</td>\n",
       "      <td>2.0</td>\n",
       "      <td>Luxury</td>\n",
       "      <td>Compact</td>\n",
       "      <td>Convertible</td>\n",
       "      <td>28</td>\n",
       "      <td>18</td>\n",
       "      <td>3916</td>\n",
       "      <td>34500</td>\n",
       "    </tr>\n",
       "  </tbody>\n",
       "</table>\n",
       "</div>"
      ],
      "text/plain": [
       "  Make       Model  Year             Engine Fuel Type  Engine HP  \\\n",
       "0  BMW  1 Series M  2011  premium unleaded (required)      335.0   \n",
       "1  BMW    1 Series  2011  premium unleaded (required)      300.0   \n",
       "2  BMW    1 Series  2011  premium unleaded (required)      300.0   \n",
       "3  BMW    1 Series  2011  premium unleaded (required)      230.0   \n",
       "4  BMW    1 Series  2011  premium unleaded (required)      230.0   \n",
       "\n",
       "   Engine Cylinders Transmission Type     Driven_Wheels  Number of Doors  \\\n",
       "0               6.0            MANUAL  rear wheel drive              2.0   \n",
       "1               6.0            MANUAL  rear wheel drive              2.0   \n",
       "2               6.0            MANUAL  rear wheel drive              2.0   \n",
       "3               6.0            MANUAL  rear wheel drive              2.0   \n",
       "4               6.0            MANUAL  rear wheel drive              2.0   \n",
       "\n",
       "                         Market Category Vehicle Size Vehicle Style  \\\n",
       "0  Factory Tuner,Luxury,High-Performance      Compact         Coupe   \n",
       "1                     Luxury,Performance      Compact   Convertible   \n",
       "2                Luxury,High-Performance      Compact         Coupe   \n",
       "3                     Luxury,Performance      Compact         Coupe   \n",
       "4                                 Luxury      Compact   Convertible   \n",
       "\n",
       "   highway MPG  city mpg  Popularity   MSRP  \n",
       "0           26        19        3916  46135  \n",
       "1           28        19        3916  40650  \n",
       "2           28        20        3916  36350  \n",
       "3           28        18        3916  29450  \n",
       "4           28        18        3916  34500  "
      ]
     },
     "execution_count": 3,
     "metadata": {},
     "output_type": "execute_result"
    }
   ],
   "source": [
    "df.head()"
   ]
  },
  {
   "cell_type": "code",
   "execution_count": 4,
   "id": "40109d57-78cb-41c4-b858-8dd321317d3f",
   "metadata": {},
   "outputs": [
    {
     "data": {
      "text/plain": [
       "Index(['Make', 'Model', 'Year', 'Engine Fuel Type', 'Engine HP',\n",
       "       'Engine Cylinders', 'Transmission Type', 'Driven_Wheels',\n",
       "       'Number of Doors', 'Market Category', 'Vehicle Size', 'Vehicle Style',\n",
       "       'highway MPG', 'city mpg', 'Popularity', 'MSRP'],\n",
       "      dtype='object')"
      ]
     },
     "execution_count": 4,
     "metadata": {},
     "output_type": "execute_result"
    }
   ],
   "source": [
    "df.columns"
   ]
  },
  {
   "cell_type": "code",
   "execution_count": 5,
   "id": "c70663de-8580-4eab-9256-2d307369746e",
   "metadata": {},
   "outputs": [],
   "source": [
    "# ensuring there is conformity in the columns\n",
    "df.columns = df.columns.str.lower().str.replace(\" \", \"_\")"
   ]
  },
  {
   "cell_type": "code",
   "execution_count": 6,
   "id": "d868819b-1c2b-4c2e-9e39-07bac8b6707b",
   "metadata": {},
   "outputs": [
    {
     "data": {
      "text/html": [
       "<div>\n",
       "<style scoped>\n",
       "    .dataframe tbody tr th:only-of-type {\n",
       "        vertical-align: middle;\n",
       "    }\n",
       "\n",
       "    .dataframe tbody tr th {\n",
       "        vertical-align: top;\n",
       "    }\n",
       "\n",
       "    .dataframe thead th {\n",
       "        text-align: right;\n",
       "    }\n",
       "</style>\n",
       "<table border=\"1\" class=\"dataframe\">\n",
       "  <thead>\n",
       "    <tr style=\"text-align: right;\">\n",
       "      <th></th>\n",
       "      <th>make</th>\n",
       "      <th>model</th>\n",
       "      <th>year</th>\n",
       "      <th>engine_fuel_type</th>\n",
       "      <th>engine_hp</th>\n",
       "      <th>engine_cylinders</th>\n",
       "      <th>transmission_type</th>\n",
       "      <th>driven_wheels</th>\n",
       "      <th>number_of_doors</th>\n",
       "      <th>market_category</th>\n",
       "      <th>vehicle_size</th>\n",
       "      <th>vehicle_style</th>\n",
       "      <th>highway_mpg</th>\n",
       "      <th>city_mpg</th>\n",
       "      <th>popularity</th>\n",
       "      <th>msrp</th>\n",
       "    </tr>\n",
       "  </thead>\n",
       "  <tbody>\n",
       "    <tr>\n",
       "      <th>6111</th>\n",
       "      <td>Volkswagen</td>\n",
       "      <td>Jetta</td>\n",
       "      <td>2015</td>\n",
       "      <td>regular unleaded</td>\n",
       "      <td>115.0</td>\n",
       "      <td>4.0</td>\n",
       "      <td>MANUAL</td>\n",
       "      <td>front wheel drive</td>\n",
       "      <td>4.0</td>\n",
       "      <td>NaN</td>\n",
       "      <td>Midsize</td>\n",
       "      <td>Sedan</td>\n",
       "      <td>34</td>\n",
       "      <td>25</td>\n",
       "      <td>873</td>\n",
       "      <td>17325</td>\n",
       "    </tr>\n",
       "    <tr>\n",
       "      <th>2928</th>\n",
       "      <td>Toyota</td>\n",
       "      <td>Corolla</td>\n",
       "      <td>2015</td>\n",
       "      <td>regular unleaded</td>\n",
       "      <td>132.0</td>\n",
       "      <td>4.0</td>\n",
       "      <td>AUTOMATIC</td>\n",
       "      <td>front wheel drive</td>\n",
       "      <td>4.0</td>\n",
       "      <td>NaN</td>\n",
       "      <td>Compact</td>\n",
       "      <td>Sedan</td>\n",
       "      <td>36</td>\n",
       "      <td>27</td>\n",
       "      <td>2031</td>\n",
       "      <td>17550</td>\n",
       "    </tr>\n",
       "    <tr>\n",
       "      <th>8980</th>\n",
       "      <td>Hyundai</td>\n",
       "      <td>Santa Fe Sport</td>\n",
       "      <td>2017</td>\n",
       "      <td>regular unleaded</td>\n",
       "      <td>265.0</td>\n",
       "      <td>4.0</td>\n",
       "      <td>AUTOMATIC</td>\n",
       "      <td>front wheel drive</td>\n",
       "      <td>4.0</td>\n",
       "      <td>Crossover</td>\n",
       "      <td>Midsize</td>\n",
       "      <td>4dr SUV</td>\n",
       "      <td>28</td>\n",
       "      <td>20</td>\n",
       "      <td>1439</td>\n",
       "      <td>31700</td>\n",
       "    </tr>\n",
       "    <tr>\n",
       "      <th>1654</th>\n",
       "      <td>Lincoln</td>\n",
       "      <td>Aviator</td>\n",
       "      <td>2004</td>\n",
       "      <td>premium unleaded (required)</td>\n",
       "      <td>302.0</td>\n",
       "      <td>8.0</td>\n",
       "      <td>AUTOMATIC</td>\n",
       "      <td>all wheel drive</td>\n",
       "      <td>4.0</td>\n",
       "      <td>Luxury</td>\n",
       "      <td>Midsize</td>\n",
       "      <td>4dr SUV</td>\n",
       "      <td>16</td>\n",
       "      <td>12</td>\n",
       "      <td>61</td>\n",
       "      <td>45705</td>\n",
       "    </tr>\n",
       "    <tr>\n",
       "      <th>8117</th>\n",
       "      <td>Dodge</td>\n",
       "      <td>Ram 50 Pickup</td>\n",
       "      <td>1992</td>\n",
       "      <td>regular unleaded</td>\n",
       "      <td>116.0</td>\n",
       "      <td>4.0</td>\n",
       "      <td>MANUAL</td>\n",
       "      <td>four wheel drive</td>\n",
       "      <td>2.0</td>\n",
       "      <td>NaN</td>\n",
       "      <td>Compact</td>\n",
       "      <td>Regular Cab Pickup</td>\n",
       "      <td>20</td>\n",
       "      <td>17</td>\n",
       "      <td>1851</td>\n",
       "      <td>2000</td>\n",
       "    </tr>\n",
       "    <tr>\n",
       "      <th>1276</th>\n",
       "      <td>Honda</td>\n",
       "      <td>Accord</td>\n",
       "      <td>2017</td>\n",
       "      <td>regular unleaded</td>\n",
       "      <td>189.0</td>\n",
       "      <td>4.0</td>\n",
       "      <td>MANUAL</td>\n",
       "      <td>front wheel drive</td>\n",
       "      <td>4.0</td>\n",
       "      <td>NaN</td>\n",
       "      <td>Midsize</td>\n",
       "      <td>Sedan</td>\n",
       "      <td>32</td>\n",
       "      <td>23</td>\n",
       "      <td>2202</td>\n",
       "      <td>24415</td>\n",
       "    </tr>\n",
       "    <tr>\n",
       "      <th>1502</th>\n",
       "      <td>Cadillac</td>\n",
       "      <td>ATS Coupe</td>\n",
       "      <td>2016</td>\n",
       "      <td>premium unleaded (recommended)</td>\n",
       "      <td>272.0</td>\n",
       "      <td>4.0</td>\n",
       "      <td>AUTOMATIC</td>\n",
       "      <td>rear wheel drive</td>\n",
       "      <td>2.0</td>\n",
       "      <td>Luxury,Performance</td>\n",
       "      <td>Compact</td>\n",
       "      <td>Coupe</td>\n",
       "      <td>31</td>\n",
       "      <td>22</td>\n",
       "      <td>1624</td>\n",
       "      <td>47605</td>\n",
       "    </tr>\n",
       "    <tr>\n",
       "      <th>7155</th>\n",
       "      <td>Lincoln</td>\n",
       "      <td>Navigator</td>\n",
       "      <td>2016</td>\n",
       "      <td>regular unleaded</td>\n",
       "      <td>380.0</td>\n",
       "      <td>6.0</td>\n",
       "      <td>AUTOMATIC</td>\n",
       "      <td>rear wheel drive</td>\n",
       "      <td>4.0</td>\n",
       "      <td>Luxury</td>\n",
       "      <td>Large</td>\n",
       "      <td>4dr SUV</td>\n",
       "      <td>20</td>\n",
       "      <td>15</td>\n",
       "      <td>61</td>\n",
       "      <td>73645</td>\n",
       "    </tr>\n",
       "    <tr>\n",
       "      <th>5432</th>\n",
       "      <td>Volkswagen</td>\n",
       "      <td>Golf SportWagen</td>\n",
       "      <td>2015</td>\n",
       "      <td>diesel</td>\n",
       "      <td>150.0</td>\n",
       "      <td>4.0</td>\n",
       "      <td>AUTOMATED_MANUAL</td>\n",
       "      <td>front wheel drive</td>\n",
       "      <td>4.0</td>\n",
       "      <td>Diesel</td>\n",
       "      <td>Compact</td>\n",
       "      <td>Wagon</td>\n",
       "      <td>42</td>\n",
       "      <td>31</td>\n",
       "      <td>873</td>\n",
       "      <td>25695</td>\n",
       "    </tr>\n",
       "    <tr>\n",
       "      <th>3674</th>\n",
       "      <td>Mercedes-Benz</td>\n",
       "      <td>E-Class</td>\n",
       "      <td>2015</td>\n",
       "      <td>premium unleaded (required)</td>\n",
       "      <td>402.0</td>\n",
       "      <td>8.0</td>\n",
       "      <td>AUTOMATIC</td>\n",
       "      <td>rear wheel drive</td>\n",
       "      <td>2.0</td>\n",
       "      <td>Luxury,High-Performance</td>\n",
       "      <td>Midsize</td>\n",
       "      <td>Convertible</td>\n",
       "      <td>26</td>\n",
       "      <td>17</td>\n",
       "      <td>617</td>\n",
       "      <td>67750</td>\n",
       "    </tr>\n",
       "    <tr>\n",
       "      <th>9038</th>\n",
       "      <td>Lexus</td>\n",
       "      <td>SC 400</td>\n",
       "      <td>1999</td>\n",
       "      <td>regular unleaded</td>\n",
       "      <td>290.0</td>\n",
       "      <td>8.0</td>\n",
       "      <td>AUTOMATIC</td>\n",
       "      <td>rear wheel drive</td>\n",
       "      <td>2.0</td>\n",
       "      <td>Luxury,Performance</td>\n",
       "      <td>Midsize</td>\n",
       "      <td>Coupe</td>\n",
       "      <td>23</td>\n",
       "      <td>16</td>\n",
       "      <td>454</td>\n",
       "      <td>4031</td>\n",
       "    </tr>\n",
       "    <tr>\n",
       "      <th>3644</th>\n",
       "      <td>Ford</td>\n",
       "      <td>E-150</td>\n",
       "      <td>1996</td>\n",
       "      <td>regular unleaded</td>\n",
       "      <td>199.0</td>\n",
       "      <td>6.0</td>\n",
       "      <td>AUTOMATIC</td>\n",
       "      <td>rear wheel drive</td>\n",
       "      <td>3.0</td>\n",
       "      <td>NaN</td>\n",
       "      <td>Midsize</td>\n",
       "      <td>Passenger Van</td>\n",
       "      <td>15</td>\n",
       "      <td>11</td>\n",
       "      <td>5657</td>\n",
       "      <td>2000</td>\n",
       "    </tr>\n",
       "    <tr>\n",
       "      <th>2671</th>\n",
       "      <td>Chevrolet</td>\n",
       "      <td>C/K 2500 Series</td>\n",
       "      <td>1998</td>\n",
       "      <td>regular unleaded</td>\n",
       "      <td>255.0</td>\n",
       "      <td>8.0</td>\n",
       "      <td>MANUAL</td>\n",
       "      <td>rear wheel drive</td>\n",
       "      <td>2.0</td>\n",
       "      <td>NaN</td>\n",
       "      <td>Large</td>\n",
       "      <td>Extended Cab Pickup</td>\n",
       "      <td>18</td>\n",
       "      <td>12</td>\n",
       "      <td>1385</td>\n",
       "      <td>3360</td>\n",
       "    </tr>\n",
       "    <tr>\n",
       "      <th>11574</th>\n",
       "      <td>Volvo</td>\n",
       "      <td>XC60</td>\n",
       "      <td>2015</td>\n",
       "      <td>regular unleaded</td>\n",
       "      <td>325.0</td>\n",
       "      <td>6.0</td>\n",
       "      <td>AUTOMATIC</td>\n",
       "      <td>all wheel drive</td>\n",
       "      <td>4.0</td>\n",
       "      <td>Crossover,Luxury,Performance</td>\n",
       "      <td>Midsize</td>\n",
       "      <td>4dr SUV</td>\n",
       "      <td>24</td>\n",
       "      <td>17</td>\n",
       "      <td>870</td>\n",
       "      <td>49800</td>\n",
       "    </tr>\n",
       "    <tr>\n",
       "      <th>3804</th>\n",
       "      <td>Ford</td>\n",
       "      <td>Edge</td>\n",
       "      <td>2016</td>\n",
       "      <td>premium unleaded (recommended)</td>\n",
       "      <td>245.0</td>\n",
       "      <td>4.0</td>\n",
       "      <td>AUTOMATIC</td>\n",
       "      <td>all wheel drive</td>\n",
       "      <td>4.0</td>\n",
       "      <td>Crossover</td>\n",
       "      <td>Midsize</td>\n",
       "      <td>4dr SUV</td>\n",
       "      <td>28</td>\n",
       "      <td>20</td>\n",
       "      <td>5657</td>\n",
       "      <td>33785</td>\n",
       "    </tr>\n",
       "  </tbody>\n",
       "</table>\n",
       "</div>"
      ],
      "text/plain": [
       "                make            model  year                engine_fuel_type  \\\n",
       "6111      Volkswagen            Jetta  2015                regular unleaded   \n",
       "2928          Toyota          Corolla  2015                regular unleaded   \n",
       "8980         Hyundai   Santa Fe Sport  2017                regular unleaded   \n",
       "1654         Lincoln          Aviator  2004     premium unleaded (required)   \n",
       "8117           Dodge    Ram 50 Pickup  1992                regular unleaded   \n",
       "1276           Honda           Accord  2017                regular unleaded   \n",
       "1502        Cadillac        ATS Coupe  2016  premium unleaded (recommended)   \n",
       "7155         Lincoln        Navigator  2016                regular unleaded   \n",
       "5432      Volkswagen  Golf SportWagen  2015                          diesel   \n",
       "3674   Mercedes-Benz          E-Class  2015     premium unleaded (required)   \n",
       "9038           Lexus           SC 400  1999                regular unleaded   \n",
       "3644            Ford            E-150  1996                regular unleaded   \n",
       "2671       Chevrolet  C/K 2500 Series  1998                regular unleaded   \n",
       "11574          Volvo             XC60  2015                regular unleaded   \n",
       "3804            Ford             Edge  2016  premium unleaded (recommended)   \n",
       "\n",
       "       engine_hp  engine_cylinders transmission_type      driven_wheels  \\\n",
       "6111       115.0               4.0            MANUAL  front wheel drive   \n",
       "2928       132.0               4.0         AUTOMATIC  front wheel drive   \n",
       "8980       265.0               4.0         AUTOMATIC  front wheel drive   \n",
       "1654       302.0               8.0         AUTOMATIC    all wheel drive   \n",
       "8117       116.0               4.0            MANUAL   four wheel drive   \n",
       "1276       189.0               4.0            MANUAL  front wheel drive   \n",
       "1502       272.0               4.0         AUTOMATIC   rear wheel drive   \n",
       "7155       380.0               6.0         AUTOMATIC   rear wheel drive   \n",
       "5432       150.0               4.0  AUTOMATED_MANUAL  front wheel drive   \n",
       "3674       402.0               8.0         AUTOMATIC   rear wheel drive   \n",
       "9038       290.0               8.0         AUTOMATIC   rear wheel drive   \n",
       "3644       199.0               6.0         AUTOMATIC   rear wheel drive   \n",
       "2671       255.0               8.0            MANUAL   rear wheel drive   \n",
       "11574      325.0               6.0         AUTOMATIC    all wheel drive   \n",
       "3804       245.0               4.0         AUTOMATIC    all wheel drive   \n",
       "\n",
       "       number_of_doors               market_category vehicle_size  \\\n",
       "6111               4.0                           NaN      Midsize   \n",
       "2928               4.0                           NaN      Compact   \n",
       "8980               4.0                     Crossover      Midsize   \n",
       "1654               4.0                        Luxury      Midsize   \n",
       "8117               2.0                           NaN      Compact   \n",
       "1276               4.0                           NaN      Midsize   \n",
       "1502               2.0            Luxury,Performance      Compact   \n",
       "7155               4.0                        Luxury        Large   \n",
       "5432               4.0                        Diesel      Compact   \n",
       "3674               2.0       Luxury,High-Performance      Midsize   \n",
       "9038               2.0            Luxury,Performance      Midsize   \n",
       "3644               3.0                           NaN      Midsize   \n",
       "2671               2.0                           NaN        Large   \n",
       "11574              4.0  Crossover,Luxury,Performance      Midsize   \n",
       "3804               4.0                     Crossover      Midsize   \n",
       "\n",
       "             vehicle_style  highway_mpg  city_mpg  popularity   msrp  \n",
       "6111                 Sedan           34        25         873  17325  \n",
       "2928                 Sedan           36        27        2031  17550  \n",
       "8980               4dr SUV           28        20        1439  31700  \n",
       "1654               4dr SUV           16        12          61  45705  \n",
       "8117    Regular Cab Pickup           20        17        1851   2000  \n",
       "1276                 Sedan           32        23        2202  24415  \n",
       "1502                 Coupe           31        22        1624  47605  \n",
       "7155               4dr SUV           20        15          61  73645  \n",
       "5432                 Wagon           42        31         873  25695  \n",
       "3674           Convertible           26        17         617  67750  \n",
       "9038                 Coupe           23        16         454   4031  \n",
       "3644         Passenger Van           15        11        5657   2000  \n",
       "2671   Extended Cab Pickup           18        12        1385   3360  \n",
       "11574              4dr SUV           24        17         870  49800  \n",
       "3804               4dr SUV           28        20        5657  33785  "
      ]
     },
     "execution_count": 6,
     "metadata": {},
     "output_type": "execute_result"
    }
   ],
   "source": [
    "df.sample(15)"
   ]
  },
  {
   "cell_type": "code",
   "execution_count": 7,
   "id": "98b4fba3-19f9-49f2-a6cb-7a5d9855a8af",
   "metadata": {},
   "outputs": [],
   "source": [
    "# normalize the values in the dataframe, ensuring that they follow the same string form\n",
    "string_columns = list(df.select_dtypes(object).columns)"
   ]
  },
  {
   "cell_type": "code",
   "execution_count": 8,
   "id": "3a7c9c40-af6d-4d47-bcb6-0b2908d202ff",
   "metadata": {},
   "outputs": [
    {
     "data": {
      "text/plain": [
       "['make',\n",
       " 'model',\n",
       " 'engine_fuel_type',\n",
       " 'transmission_type',\n",
       " 'driven_wheels',\n",
       " 'market_category',\n",
       " 'vehicle_size',\n",
       " 'vehicle_style']"
      ]
     },
     "execution_count": 8,
     "metadata": {},
     "output_type": "execute_result"
    }
   ],
   "source": [
    "string_columns"
   ]
  },
  {
   "cell_type": "code",
   "execution_count": 9,
   "id": "85ac6a11-f26b-44a3-8549-ac3f50666237",
   "metadata": {},
   "outputs": [],
   "source": [
    "for col in string_columns:\n",
    "    df[col] = df[col].str.lower().str.replace(\" \", \"_\")"
   ]
  },
  {
   "cell_type": "code",
   "execution_count": 10,
   "id": "e26bce96-19ea-4a2e-abcb-733639ad249e",
   "metadata": {},
   "outputs": [
    {
     "data": {
      "text/html": [
       "<div>\n",
       "<style scoped>\n",
       "    .dataframe tbody tr th:only-of-type {\n",
       "        vertical-align: middle;\n",
       "    }\n",
       "\n",
       "    .dataframe tbody tr th {\n",
       "        vertical-align: top;\n",
       "    }\n",
       "\n",
       "    .dataframe thead th {\n",
       "        text-align: right;\n",
       "    }\n",
       "</style>\n",
       "<table border=\"1\" class=\"dataframe\">\n",
       "  <thead>\n",
       "    <tr style=\"text-align: right;\">\n",
       "      <th></th>\n",
       "      <th>make</th>\n",
       "      <th>model</th>\n",
       "      <th>year</th>\n",
       "      <th>engine_fuel_type</th>\n",
       "      <th>engine_hp</th>\n",
       "      <th>engine_cylinders</th>\n",
       "      <th>transmission_type</th>\n",
       "      <th>driven_wheels</th>\n",
       "      <th>number_of_doors</th>\n",
       "      <th>market_category</th>\n",
       "      <th>vehicle_size</th>\n",
       "      <th>vehicle_style</th>\n",
       "      <th>highway_mpg</th>\n",
       "      <th>city_mpg</th>\n",
       "      <th>popularity</th>\n",
       "      <th>msrp</th>\n",
       "    </tr>\n",
       "  </thead>\n",
       "  <tbody>\n",
       "    <tr>\n",
       "      <th>2900</th>\n",
       "      <td>lincoln</td>\n",
       "      <td>continental</td>\n",
       "      <td>2002</td>\n",
       "      <td>premium_unleaded_(required)</td>\n",
       "      <td>275.0</td>\n",
       "      <td>8.0</td>\n",
       "      <td>automatic</td>\n",
       "      <td>front_wheel_drive</td>\n",
       "      <td>4.0</td>\n",
       "      <td>luxury</td>\n",
       "      <td>large</td>\n",
       "      <td>sedan</td>\n",
       "      <td>23</td>\n",
       "      <td>15</td>\n",
       "      <td>61</td>\n",
       "      <td>38790</td>\n",
       "    </tr>\n",
       "    <tr>\n",
       "      <th>4327</th>\n",
       "      <td>ford</td>\n",
       "      <td>expedition</td>\n",
       "      <td>2016</td>\n",
       "      <td>regular_unleaded</td>\n",
       "      <td>365.0</td>\n",
       "      <td>6.0</td>\n",
       "      <td>automatic</td>\n",
       "      <td>four_wheel_drive</td>\n",
       "      <td>4.0</td>\n",
       "      <td>NaN</td>\n",
       "      <td>large</td>\n",
       "      <td>4dr_suv</td>\n",
       "      <td>20</td>\n",
       "      <td>14</td>\n",
       "      <td>5657</td>\n",
       "      <td>47330</td>\n",
       "    </tr>\n",
       "    <tr>\n",
       "      <th>1814</th>\n",
       "      <td>volkswagen</td>\n",
       "      <td>beetle_convertible</td>\n",
       "      <td>2014</td>\n",
       "      <td>regular_unleaded</td>\n",
       "      <td>170.0</td>\n",
       "      <td>5.0</td>\n",
       "      <td>automatic</td>\n",
       "      <td>front_wheel_drive</td>\n",
       "      <td>2.0</td>\n",
       "      <td>NaN</td>\n",
       "      <td>compact</td>\n",
       "      <td>convertible</td>\n",
       "      <td>27</td>\n",
       "      <td>21</td>\n",
       "      <td>873</td>\n",
       "      <td>29395</td>\n",
       "    </tr>\n",
       "    <tr>\n",
       "      <th>4637</th>\n",
       "      <td>ford</td>\n",
       "      <td>f-250</td>\n",
       "      <td>1999</td>\n",
       "      <td>regular_unleaded</td>\n",
       "      <td>220.0</td>\n",
       "      <td>8.0</td>\n",
       "      <td>manual</td>\n",
       "      <td>rear_wheel_drive</td>\n",
       "      <td>4.0</td>\n",
       "      <td>NaN</td>\n",
       "      <td>large</td>\n",
       "      <td>extended_cab_pickup</td>\n",
       "      <td>17</td>\n",
       "      <td>13</td>\n",
       "      <td>5657</td>\n",
       "      <td>3188</td>\n",
       "    </tr>\n",
       "    <tr>\n",
       "      <th>928</th>\n",
       "      <td>porsche</td>\n",
       "      <td>911</td>\n",
       "      <td>2015</td>\n",
       "      <td>premium_unleaded_(required)</td>\n",
       "      <td>350.0</td>\n",
       "      <td>6.0</td>\n",
       "      <td>manual</td>\n",
       "      <td>all_wheel_drive</td>\n",
       "      <td>2.0</td>\n",
       "      <td>luxury,high-performance</td>\n",
       "      <td>compact</td>\n",
       "      <td>coupe</td>\n",
       "      <td>27</td>\n",
       "      <td>19</td>\n",
       "      <td>1715</td>\n",
       "      <td>91030</td>\n",
       "    </tr>\n",
       "    <tr>\n",
       "      <th>7920</th>\n",
       "      <td>infiniti</td>\n",
       "      <td>qx50</td>\n",
       "      <td>2015</td>\n",
       "      <td>premium_unleaded_(recommended)</td>\n",
       "      <td>325.0</td>\n",
       "      <td>6.0</td>\n",
       "      <td>automatic</td>\n",
       "      <td>rear_wheel_drive</td>\n",
       "      <td>4.0</td>\n",
       "      <td>crossover,luxury,performance</td>\n",
       "      <td>midsize</td>\n",
       "      <td>4dr_suv</td>\n",
       "      <td>25</td>\n",
       "      <td>17</td>\n",
       "      <td>190</td>\n",
       "      <td>37200</td>\n",
       "    </tr>\n",
       "    <tr>\n",
       "      <th>1797</th>\n",
       "      <td>volkswagen</td>\n",
       "      <td>beetle_convertible</td>\n",
       "      <td>2014</td>\n",
       "      <td>premium_unleaded_(recommended)</td>\n",
       "      <td>210.0</td>\n",
       "      <td>4.0</td>\n",
       "      <td>manual</td>\n",
       "      <td>front_wheel_drive</td>\n",
       "      <td>2.0</td>\n",
       "      <td>performance</td>\n",
       "      <td>compact</td>\n",
       "      <td>convertible</td>\n",
       "      <td>31</td>\n",
       "      <td>23</td>\n",
       "      <td>873</td>\n",
       "      <td>29395</td>\n",
       "    </tr>\n",
       "    <tr>\n",
       "      <th>7259</th>\n",
       "      <td>acura</td>\n",
       "      <td>nsx</td>\n",
       "      <td>2004</td>\n",
       "      <td>regular_unleaded</td>\n",
       "      <td>290.0</td>\n",
       "      <td>6.0</td>\n",
       "      <td>manual</td>\n",
       "      <td>rear_wheel_drive</td>\n",
       "      <td>2.0</td>\n",
       "      <td>exotic,luxury,high-performance</td>\n",
       "      <td>compact</td>\n",
       "      <td>coupe</td>\n",
       "      <td>22</td>\n",
       "      <td>16</td>\n",
       "      <td>204</td>\n",
       "      <td>89000</td>\n",
       "    </tr>\n",
       "    <tr>\n",
       "      <th>4218</th>\n",
       "      <td>lotus</td>\n",
       "      <td>esprit</td>\n",
       "      <td>2004</td>\n",
       "      <td>premium_unleaded_(required)</td>\n",
       "      <td>350.0</td>\n",
       "      <td>8.0</td>\n",
       "      <td>manual</td>\n",
       "      <td>rear_wheel_drive</td>\n",
       "      <td>2.0</td>\n",
       "      <td>exotic,high-performance</td>\n",
       "      <td>compact</td>\n",
       "      <td>coupe</td>\n",
       "      <td>21</td>\n",
       "      <td>14</td>\n",
       "      <td>613</td>\n",
       "      <td>93225</td>\n",
       "    </tr>\n",
       "    <tr>\n",
       "      <th>2105</th>\n",
       "      <td>volvo</td>\n",
       "      <td>c30</td>\n",
       "      <td>2013</td>\n",
       "      <td>regular_unleaded</td>\n",
       "      <td>227.0</td>\n",
       "      <td>5.0</td>\n",
       "      <td>manual</td>\n",
       "      <td>front_wheel_drive</td>\n",
       "      <td>2.0</td>\n",
       "      <td>hatchback,luxury</td>\n",
       "      <td>compact</td>\n",
       "      <td>2dr_hatchback</td>\n",
       "      <td>29</td>\n",
       "      <td>21</td>\n",
       "      <td>870</td>\n",
       "      <td>25500</td>\n",
       "    </tr>\n",
       "    <tr>\n",
       "      <th>9611</th>\n",
       "      <td>chevrolet</td>\n",
       "      <td>silverado_1500</td>\n",
       "      <td>2017</td>\n",
       "      <td>flex-fuel_(unleaded/e85)</td>\n",
       "      <td>285.0</td>\n",
       "      <td>6.0</td>\n",
       "      <td>automatic</td>\n",
       "      <td>four_wheel_drive</td>\n",
       "      <td>4.0</td>\n",
       "      <td>flex_fuel</td>\n",
       "      <td>large</td>\n",
       "      <td>extended_cab_pickup</td>\n",
       "      <td>22</td>\n",
       "      <td>17</td>\n",
       "      <td>1385</td>\n",
       "      <td>42075</td>\n",
       "    </tr>\n",
       "    <tr>\n",
       "      <th>2812</th>\n",
       "      <td>dodge</td>\n",
       "      <td>colt</td>\n",
       "      <td>1992</td>\n",
       "      <td>regular_unleaded</td>\n",
       "      <td>92.0</td>\n",
       "      <td>4.0</td>\n",
       "      <td>manual</td>\n",
       "      <td>front_wheel_drive</td>\n",
       "      <td>2.0</td>\n",
       "      <td>hatchback</td>\n",
       "      <td>compact</td>\n",
       "      <td>2dr_hatchback</td>\n",
       "      <td>32</td>\n",
       "      <td>25</td>\n",
       "      <td>1851</td>\n",
       "      <td>2000</td>\n",
       "    </tr>\n",
       "    <tr>\n",
       "      <th>3667</th>\n",
       "      <td>mercedes-benz</td>\n",
       "      <td>e-class</td>\n",
       "      <td>2015</td>\n",
       "      <td>premium_unleaded_(required)</td>\n",
       "      <td>329.0</td>\n",
       "      <td>6.0</td>\n",
       "      <td>automatic</td>\n",
       "      <td>all_wheel_drive</td>\n",
       "      <td>2.0</td>\n",
       "      <td>luxury,performance</td>\n",
       "      <td>midsize</td>\n",
       "      <td>coupe</td>\n",
       "      <td>28</td>\n",
       "      <td>20</td>\n",
       "      <td>617</td>\n",
       "      <td>55850</td>\n",
       "    </tr>\n",
       "    <tr>\n",
       "      <th>6709</th>\n",
       "      <td>lincoln</td>\n",
       "      <td>mark_vii</td>\n",
       "      <td>1991</td>\n",
       "      <td>regular_unleaded</td>\n",
       "      <td>225.0</td>\n",
       "      <td>8.0</td>\n",
       "      <td>automatic</td>\n",
       "      <td>rear_wheel_drive</td>\n",
       "      <td>2.0</td>\n",
       "      <td>luxury</td>\n",
       "      <td>large</td>\n",
       "      <td>coupe</td>\n",
       "      <td>22</td>\n",
       "      <td>15</td>\n",
       "      <td>61</td>\n",
       "      <td>2000</td>\n",
       "    </tr>\n",
       "    <tr>\n",
       "      <th>7838</th>\n",
       "      <td>infiniti</td>\n",
       "      <td>q60_coupe</td>\n",
       "      <td>2015</td>\n",
       "      <td>premium_unleaded_(recommended)</td>\n",
       "      <td>330.0</td>\n",
       "      <td>6.0</td>\n",
       "      <td>manual</td>\n",
       "      <td>rear_wheel_drive</td>\n",
       "      <td>2.0</td>\n",
       "      <td>luxury,high-performance</td>\n",
       "      <td>midsize</td>\n",
       "      <td>coupe</td>\n",
       "      <td>25</td>\n",
       "      <td>17</td>\n",
       "      <td>190</td>\n",
       "      <td>46050</td>\n",
       "    </tr>\n",
       "    <tr>\n",
       "      <th>10572</th>\n",
       "      <td>lincoln</td>\n",
       "      <td>town_car</td>\n",
       "      <td>2011</td>\n",
       "      <td>flex-fuel_(unleaded/e85)</td>\n",
       "      <td>239.0</td>\n",
       "      <td>8.0</td>\n",
       "      <td>automatic</td>\n",
       "      <td>rear_wheel_drive</td>\n",
       "      <td>4.0</td>\n",
       "      <td>flex_fuel,luxury</td>\n",
       "      <td>large</td>\n",
       "      <td>sedan</td>\n",
       "      <td>24</td>\n",
       "      <td>16</td>\n",
       "      <td>61</td>\n",
       "      <td>47000</td>\n",
       "    </tr>\n",
       "    <tr>\n",
       "      <th>6149</th>\n",
       "      <td>volkswagen</td>\n",
       "      <td>jetta</td>\n",
       "      <td>2017</td>\n",
       "      <td>regular_unleaded</td>\n",
       "      <td>150.0</td>\n",
       "      <td>4.0</td>\n",
       "      <td>automatic</td>\n",
       "      <td>front_wheel_drive</td>\n",
       "      <td>4.0</td>\n",
       "      <td>NaN</td>\n",
       "      <td>midsize</td>\n",
       "      <td>sedan</td>\n",
       "      <td>38</td>\n",
       "      <td>28</td>\n",
       "      <td>873</td>\n",
       "      <td>21995</td>\n",
       "    </tr>\n",
       "    <tr>\n",
       "      <th>9273</th>\n",
       "      <td>gmc</td>\n",
       "      <td>sierra_1500_classic</td>\n",
       "      <td>2007</td>\n",
       "      <td>flex-fuel_(unleaded/e85)</td>\n",
       "      <td>295.0</td>\n",
       "      <td>8.0</td>\n",
       "      <td>automatic</td>\n",
       "      <td>four_wheel_drive</td>\n",
       "      <td>4.0</td>\n",
       "      <td>flex_fuel</td>\n",
       "      <td>large</td>\n",
       "      <td>extended_cab_pickup</td>\n",
       "      <td>17</td>\n",
       "      <td>13</td>\n",
       "      <td>549</td>\n",
       "      <td>28790</td>\n",
       "    </tr>\n",
       "    <tr>\n",
       "      <th>10602</th>\n",
       "      <td>chevrolet</td>\n",
       "      <td>trailblazer_ext</td>\n",
       "      <td>2005</td>\n",
       "      <td>regular_unleaded</td>\n",
       "      <td>275.0</td>\n",
       "      <td>6.0</td>\n",
       "      <td>automatic</td>\n",
       "      <td>four_wheel_drive</td>\n",
       "      <td>4.0</td>\n",
       "      <td>NaN</td>\n",
       "      <td>large</td>\n",
       "      <td>4dr_suv</td>\n",
       "      <td>17</td>\n",
       "      <td>12</td>\n",
       "      <td>1385</td>\n",
       "      <td>30335</td>\n",
       "    </tr>\n",
       "    <tr>\n",
       "      <th>9674</th>\n",
       "      <td>mercedes-benz</td>\n",
       "      <td>slk-class</td>\n",
       "      <td>2014</td>\n",
       "      <td>premium_unleaded_(required)</td>\n",
       "      <td>415.0</td>\n",
       "      <td>8.0</td>\n",
       "      <td>automatic</td>\n",
       "      <td>rear_wheel_drive</td>\n",
       "      <td>2.0</td>\n",
       "      <td>factory_tuner,luxury,high-performance</td>\n",
       "      <td>compact</td>\n",
       "      <td>convertible</td>\n",
       "      <td>28</td>\n",
       "      <td>19</td>\n",
       "      <td>617</td>\n",
       "      <td>68925</td>\n",
       "    </tr>\n",
       "  </tbody>\n",
       "</table>\n",
       "</div>"
      ],
      "text/plain": [
       "                make                model  year  \\\n",
       "2900         lincoln          continental  2002   \n",
       "4327            ford           expedition  2016   \n",
       "1814      volkswagen   beetle_convertible  2014   \n",
       "4637            ford                f-250  1999   \n",
       "928          porsche                  911  2015   \n",
       "7920        infiniti                 qx50  2015   \n",
       "1797      volkswagen   beetle_convertible  2014   \n",
       "7259           acura                  nsx  2004   \n",
       "4218           lotus               esprit  2004   \n",
       "2105           volvo                  c30  2013   \n",
       "9611       chevrolet       silverado_1500  2017   \n",
       "2812           dodge                 colt  1992   \n",
       "3667   mercedes-benz              e-class  2015   \n",
       "6709         lincoln             mark_vii  1991   \n",
       "7838        infiniti            q60_coupe  2015   \n",
       "10572        lincoln             town_car  2011   \n",
       "6149      volkswagen                jetta  2017   \n",
       "9273             gmc  sierra_1500_classic  2007   \n",
       "10602      chevrolet      trailblazer_ext  2005   \n",
       "9674   mercedes-benz            slk-class  2014   \n",
       "\n",
       "                     engine_fuel_type  engine_hp  engine_cylinders  \\\n",
       "2900      premium_unleaded_(required)      275.0               8.0   \n",
       "4327                 regular_unleaded      365.0               6.0   \n",
       "1814                 regular_unleaded      170.0               5.0   \n",
       "4637                 regular_unleaded      220.0               8.0   \n",
       "928       premium_unleaded_(required)      350.0               6.0   \n",
       "7920   premium_unleaded_(recommended)      325.0               6.0   \n",
       "1797   premium_unleaded_(recommended)      210.0               4.0   \n",
       "7259                 regular_unleaded      290.0               6.0   \n",
       "4218      premium_unleaded_(required)      350.0               8.0   \n",
       "2105                 regular_unleaded      227.0               5.0   \n",
       "9611         flex-fuel_(unleaded/e85)      285.0               6.0   \n",
       "2812                 regular_unleaded       92.0               4.0   \n",
       "3667      premium_unleaded_(required)      329.0               6.0   \n",
       "6709                 regular_unleaded      225.0               8.0   \n",
       "7838   premium_unleaded_(recommended)      330.0               6.0   \n",
       "10572        flex-fuel_(unleaded/e85)      239.0               8.0   \n",
       "6149                 regular_unleaded      150.0               4.0   \n",
       "9273         flex-fuel_(unleaded/e85)      295.0               8.0   \n",
       "10602                regular_unleaded      275.0               6.0   \n",
       "9674      premium_unleaded_(required)      415.0               8.0   \n",
       "\n",
       "      transmission_type      driven_wheels  number_of_doors  \\\n",
       "2900          automatic  front_wheel_drive              4.0   \n",
       "4327          automatic   four_wheel_drive              4.0   \n",
       "1814          automatic  front_wheel_drive              2.0   \n",
       "4637             manual   rear_wheel_drive              4.0   \n",
       "928              manual    all_wheel_drive              2.0   \n",
       "7920          automatic   rear_wheel_drive              4.0   \n",
       "1797             manual  front_wheel_drive              2.0   \n",
       "7259             manual   rear_wheel_drive              2.0   \n",
       "4218             manual   rear_wheel_drive              2.0   \n",
       "2105             manual  front_wheel_drive              2.0   \n",
       "9611          automatic   four_wheel_drive              4.0   \n",
       "2812             manual  front_wheel_drive              2.0   \n",
       "3667          automatic    all_wheel_drive              2.0   \n",
       "6709          automatic   rear_wheel_drive              2.0   \n",
       "7838             manual   rear_wheel_drive              2.0   \n",
       "10572         automatic   rear_wheel_drive              4.0   \n",
       "6149          automatic  front_wheel_drive              4.0   \n",
       "9273          automatic   four_wheel_drive              4.0   \n",
       "10602         automatic   four_wheel_drive              4.0   \n",
       "9674          automatic   rear_wheel_drive              2.0   \n",
       "\n",
       "                             market_category vehicle_size  \\\n",
       "2900                                  luxury        large   \n",
       "4327                                     NaN        large   \n",
       "1814                                     NaN      compact   \n",
       "4637                                     NaN        large   \n",
       "928                  luxury,high-performance      compact   \n",
       "7920            crossover,luxury,performance      midsize   \n",
       "1797                             performance      compact   \n",
       "7259          exotic,luxury,high-performance      compact   \n",
       "4218                 exotic,high-performance      compact   \n",
       "2105                        hatchback,luxury      compact   \n",
       "9611                               flex_fuel        large   \n",
       "2812                               hatchback      compact   \n",
       "3667                      luxury,performance      midsize   \n",
       "6709                                  luxury        large   \n",
       "7838                 luxury,high-performance      midsize   \n",
       "10572                       flex_fuel,luxury        large   \n",
       "6149                                     NaN      midsize   \n",
       "9273                               flex_fuel        large   \n",
       "10602                                    NaN        large   \n",
       "9674   factory_tuner,luxury,high-performance      compact   \n",
       "\n",
       "             vehicle_style  highway_mpg  city_mpg  popularity   msrp  \n",
       "2900                 sedan           23        15          61  38790  \n",
       "4327               4dr_suv           20        14        5657  47330  \n",
       "1814           convertible           27        21         873  29395  \n",
       "4637   extended_cab_pickup           17        13        5657   3188  \n",
       "928                  coupe           27        19        1715  91030  \n",
       "7920               4dr_suv           25        17         190  37200  \n",
       "1797           convertible           31        23         873  29395  \n",
       "7259                 coupe           22        16         204  89000  \n",
       "4218                 coupe           21        14         613  93225  \n",
       "2105         2dr_hatchback           29        21         870  25500  \n",
       "9611   extended_cab_pickup           22        17        1385  42075  \n",
       "2812         2dr_hatchback           32        25        1851   2000  \n",
       "3667                 coupe           28        20         617  55850  \n",
       "6709                 coupe           22        15          61   2000  \n",
       "7838                 coupe           25        17         190  46050  \n",
       "10572                sedan           24        16          61  47000  \n",
       "6149                 sedan           38        28         873  21995  \n",
       "9273   extended_cab_pickup           17        13         549  28790  \n",
       "10602              4dr_suv           17        12        1385  30335  \n",
       "9674           convertible           28        19         617  68925  "
      ]
     },
     "execution_count": 10,
     "metadata": {},
     "output_type": "execute_result"
    }
   ],
   "source": [
    "df.sample(20)"
   ]
  },
  {
   "cell_type": "code",
   "execution_count": 11,
   "id": "eb3aead6-928c-4ca7-9339-a2734ba89342",
   "metadata": {},
   "outputs": [
    {
     "data": {
      "text/plain": [
       "<Axes: xlabel='msrp', ylabel='Count'>"
      ]
     },
     "execution_count": 11,
     "metadata": {},
     "output_type": "execute_result"
    },
    {
     "data": {
      "image/png": "[encoded data removed]",
      "text/plain": [
       "<Figure size 640x480 with 1 Axes>"
      ]
     },
     "metadata": {},
     "output_type": "display_data"
    }
   ],
   "source": [
    "# inspecting the distribution of our target variable\n",
    "sns.histplot(df[\"msrp\"], bins= 40)"
   ]
  },
  {
   "cell_type": "code",
   "execution_count": 12,
   "id": "0ffb7593-9c51-4304-9310-17f2eef7c416",
   "metadata": {},
   "outputs": [
    {
     "data": {
      "text/plain": [
       "<Axes: xlabel='msrp', ylabel='Count'>"
      ]
     },
     "execution_count": 12,
     "metadata": {},
     "output_type": "execute_result"
    },
    {
     "data": {
      "image/png": "[encoded data removed]",
      "text/plain": [
       "<Figure size 640x480 with 1 Axes>"
      ]
     },
     "metadata": {},
     "output_type": "display_data"
    }
   ],
   "source": [
    "# looking at values below $100,000\n",
    "sns.histplot(df[\"msrp\"][df[\"msrp\"] < 100000], color = \"grey\")"
   ]
  },
  {
   "cell_type": "code",
   "execution_count": 13,
   "id": "c320fdf8-f99c-4050-952a-8d4177a81b7f",
   "metadata": {},
   "outputs": [],
   "source": [
    "# taking the log of the price to ensure a more normal distribution\n",
    "log_price = np.log1p(df[\"msrp\"])"
   ]
  },
  {
   "cell_type": "code",
   "execution_count": 14,
   "id": "a316a94c-ec57-4bc1-a278-d58eeac93380",
   "metadata": {},
   "outputs": [
    {
     "data": {
      "text/plain": [
       "<Axes: xlabel='msrp', ylabel='Count'>"
      ]
     },
     "execution_count": 14,
     "metadata": {},
     "output_type": "execute_result"
    },
    {
     "data": {
      "image/png": "[encoded data removed]",
      "text/plain": [
       "<Figure size 640x480 with 1 Axes>"
      ]
     },
     "metadata": {},
     "output_type": "display_data"
    }
   ],
   "source": [
    "sns.histplot(log_price)"
   ]
  },
  {
   "cell_type": "code",
   "execution_count": 15,
   "id": "3f3fa4e1-ede8-467d-a29f-c12324bd76da",
   "metadata": {},
   "outputs": [
    {
     "data": {
      "text/plain": [
       "make                    0\n",
       "model                   0\n",
       "year                    0\n",
       "engine_fuel_type        3\n",
       "engine_hp              69\n",
       "engine_cylinders       30\n",
       "transmission_type       0\n",
       "driven_wheels           0\n",
       "number_of_doors         6\n",
       "market_category      3742\n",
       "vehicle_size            0\n",
       "vehicle_style           0\n",
       "highway_mpg             0\n",
       "city_mpg                0\n",
       "popularity              0\n",
       "msrp                    0\n",
       "dtype: int64"
      ]
     },
     "execution_count": 15,
     "metadata": {},
     "output_type": "execute_result"
    }
   ],
   "source": [
    "# checking for missing values\n",
    "df.isnull().sum()"
   ]
  },
  {
   "cell_type": "code",
   "execution_count": 16,
   "id": "f33bb213-98aa-4b09-9d09-f5bddcbae8d6",
   "metadata": {},
   "outputs": [],
   "source": [
    "# Splitting Data into validation, test, and training sets\n",
    "n = len(df)\n",
    "\n",
    "n_val = int(0.2 * n)\n",
    "n_test = int(0.2 * n)\n",
    "n_train = n - (n_val + n_test)\n",
    "\n",
    "np.random.seed(2)\n",
    "idx = np.arange(n)\n",
    "np.random.shuffle(idx)\n",
    "\n",
    "df_shuffled = df.iloc[idx]"
   ]
  },
  {
   "cell_type": "code",
   "execution_count": 17,
   "id": "a9891eeb-1124-47f4-81bd-da8264531d12",
   "metadata": {},
   "outputs": [],
   "source": [
    "# Splitting the DataFrame into three parts\n",
    "df_train = df_shuffled.iloc[: n_train].copy()\n",
    "df_val = df_shuffled.iloc[n_train: n_train + n_val].copy()\n",
    "df_test = df_shuffled.iloc[n_train + n_val: ].copy()"
   ]
  },
  {
   "cell_type": "code",
   "execution_count": 18,
   "id": "a3622162-c26a-4008-b7af-fc7603c580cd",
   "metadata": {},
   "outputs": [],
   "source": [
    "# appliying log transformation to each dataframe prices\n",
    "y_train = np.log1p(df_train[\"msrp\"].values)\n",
    "y_val = np.log1p(df_val[\"msrp\"].values)\n",
    "y_test = np.log1p(df_test[\"msrp\"].values)\n",
    "\n",
    "\n",
    "# To avoid accidentally using the target variable later, let's remove it from the dataframes\n",
    "del df_train[\"msrp\"]\n",
    "del df_val[\"msrp\"]\n",
    "del df_test[\"msrp\"]"
   ]
  },
  {
   "cell_type": "code",
   "execution_count": 19,
   "id": "a69479d8-b751-4cc9-959a-1b304937ab18",
   "metadata": {},
   "outputs": [],
   "source": [
    "# implementing Linear Regression with Numpy\n",
    "def train_linear_regression(X, y):\n",
    "    # Adding the dummy column\n",
    "    ones = np.ones(X.shape[0])\n",
    "    X = np.column_stack([ones, X])\n",
    "\n",
    "    # normal equation formula\n",
    "    XTX = X.T.dot(X)\n",
    "    XTX_inv = np.linalg.inv(XTX)\n",
    "    w = XTX_inv.dot(X.T).dot(y)\n",
    "    return w[0], w[1:]"
   ]
  },
  {
   "cell_type": "code",
   "execution_count": 20,
   "id": "5d0a6f83-5ba9-4687-b1e2-4c6265a10637",
   "metadata": {},
   "outputs": [
    {
     "data": {
      "text/plain": [
       "Index(['make', 'model', 'year', 'engine_fuel_type', 'engine_hp',\n",
       "       'engine_cylinders', 'transmission_type', 'driven_wheels',\n",
       "       'number_of_doors', 'market_category', 'vehicle_size', 'vehicle_style',\n",
       "       'highway_mpg', 'city_mpg', 'popularity'],\n",
       "      dtype='object')"
      ]
     },
     "execution_count": 20,
     "metadata": {},
     "output_type": "execute_result"
    }
   ],
   "source": [
    "df_train.columns"
   ]
  },
  {
   "cell_type": "code",
   "execution_count": 21,
   "id": "9f974904-3ec3-4bb3-9a67-db56e2632be0",
   "metadata": {},
   "outputs": [],
   "source": [
    "base = [\"engine_hp\", \"engine_cylinders\", \"highway_mpg\", \"city_mpg\", \"popularity\"]\n",
    "df_num = df_train[base]"
   ]
  },
  {
   "cell_type": "code",
   "execution_count": 22,
   "id": "605e7edf-2d0b-4e40-b473-8e228c36bc47",
   "metadata": {},
   "outputs": [],
   "source": [
    "# filling the missing values with zero. simplest way to handle null values\n",
    "df_num = df_num.fillna(0)"
   ]
  },
  {
   "cell_type": "code",
   "execution_count": 23,
   "id": "1471fd61-59f5-44fe-9dac-eb3fb88904ff",
   "metadata": {},
   "outputs": [],
   "source": [
    "# convert df_num to a numpy array X to input into our linear regression function\n",
    "X_train = df_num.values\n",
    "w_0, w = train_linear_regression(X_train, y_train)"
   ]
  },
  {
   "cell_type": "code",
   "execution_count": 24,
   "id": "b9fe39c1-0668-4007-adf7-16a7f1f41537",
   "metadata": {},
   "outputs": [],
   "source": [
    "# implement the equation of a line to generate the prediction\n",
    "y_pred = w_0 + X_train.dot(w)"
   ]
  },
  {
   "cell_type": "code",
   "execution_count": 25,
   "id": "74ff8b94-35c1-4364-892a-1e7b723a8c65",
   "metadata": {},
   "outputs": [
    {
     "data": {
      "text/plain": [
       "<matplotlib.legend.Legend at 0x26a5fa73fe0>"
      ]
     },
     "execution_count": 25,
     "metadata": {},
     "output_type": "execute_result"
    },
    {
     "data": {
      "image/png": "[encoded data removed]",
      "text/plain": [
       "<Figure size 640x480 with 1 Axes>"
      ]
     },
     "metadata": {},
     "output_type": "display_data"
    }
   ],
   "source": [
    "# to have a look at our predicted vales and the actual values, we plot both values on a histogram\n",
    "sns.histplot(y_pred, label = \"prediction\")\n",
    "sns.histplot(y_train, label = \"actual\")\n",
    "plt.legend()"
   ]
  },
  {
   "cell_type": "code",
   "execution_count": 26,
   "id": "54e7e599-4043-44ef-beb4-41b5406d702a",
   "metadata": {},
   "outputs": [],
   "source": [
    "# implementing Root Mean Square Error\n",
    "def rmse(y, y_pred):\n",
    "    error = y_pred - y\n",
    "    mse = (error ** 2).mean()\n",
    "    return np.sqrt(mse)"
   ]
  },
  {
   "cell_type": "code",
   "execution_count": 27,
   "id": "984dec64-6165-48eb-ae7c-d9edc8c94d0c",
   "metadata": {},
   "outputs": [
    {
     "data": {
      "text/plain": [
       "np.float64(0.7554192603920132)"
      ]
     },
     "execution_count": 27,
     "metadata": {},
     "output_type": "execute_result"
    }
   ],
   "source": [
    "# using the RMSE to calculate the quality of the model\n",
    "rmse(y_train, y_pred)"
   ]
  },
  {
   "cell_type": "code",
   "execution_count": 28,
   "id": "46b425c4-3894-4c0c-851e-7214d6c665de",
   "metadata": {},
   "outputs": [],
   "source": [
    "# validating the model\n",
    "df_num = df_val[base].fillna(0)\n",
    "X_val = df_num.values"
   ]
  },
  {
   "cell_type": "code",
   "execution_count": 29,
   "id": "f76f8173-0923-4605-9dec-d5a26cc55838",
   "metadata": {},
   "outputs": [],
   "source": [
    "# applying the moidel to the validating data\n",
    "w_0, w = train_linear_regression(X_val, y_val)\n",
    "y_pred_val = w_0 + X_val.dot(w)"
   ]
  },
  {
   "cell_type": "code",
   "execution_count": 30,
   "id": "802c30ef-e20f-4309-809f-628012a5d088",
   "metadata": {},
   "outputs": [
    {
     "data": {
      "text/plain": [
       "np.float64(0.751003347391545)"
      ]
     },
     "execution_count": 30,
     "metadata": {},
     "output_type": "execute_result"
    }
   ],
   "source": [
    "# evaluate the predictions\n",
    "rmse(y_val, y_pred_val)"
   ]
  },
  {
   "cell_type": "code",
   "execution_count": 31,
   "id": "3d042229-8a52-428d-8185-99049b935b6a",
   "metadata": {},
   "outputs": [],
   "source": [
    "#to prevent duplication of code, I will create a function to house the repeated code\n",
    "def prepare_X(df):\n",
    "    df_num = df[base]\n",
    "    df_num = df_num.fillna(0)\n",
    "    X = df_num.values\n",
    "    return X"
   ]
  },
  {
   "cell_type": "code",
   "execution_count": 32,
   "id": "e1e33017-ab42-4f92-9464-bccff2e397c7",
   "metadata": {},
   "outputs": [
    {
     "data": {
      "text/plain": [
       "2024"
      ]
     },
     "execution_count": 32,
     "metadata": {},
     "output_type": "execute_result"
    }
   ],
   "source": [
    "# perform feature engineering by crating a new feature Age\n",
    "from datetime import date\n",
    "date.today().year"
   ]
  },
  {
   "cell_type": "code",
   "execution_count": 33,
   "id": "259e2c04-c229-4c96-be30-14ed33ecd037",
   "metadata": {},
   "outputs": [],
   "source": [
    "#to prevent duplication of code, I will create a function to house the repeated code\n",
    "def prepare_X(df):\n",
    "    df = df.copy()\n",
    "    features = base.copy()\n",
    "\n",
    "    df[\"age\"] = date.today().year - df_train[\"year\"]\n",
    "    features.append(\"age\")\n",
    "    \n",
    "    df_num = df[features]\n",
    "    df_num = df_num.fillna(0)\n",
    "    X = df_num.values\n",
    "    return X"
   ]
  },
  {
   "cell_type": "code",
   "execution_count": 34,
   "id": "962f82c5-3d63-4abf-b9dc-037a0d9d3669",
   "metadata": {},
   "outputs": [
    {
     "data": {
      "text/plain": [
       "np.float64(0.5175055465840046)"
      ]
     },
     "execution_count": 34,
     "metadata": {},
     "output_type": "execute_result"
    }
   ],
   "source": [
    "# implementing the new feature in the model\n",
    "X_train = prepare_X(df_train)\n",
    "w_0, w = train_linear_regression(X_train, y_train)\n",
    "y_pred_train = w_0 +  X_train.dot(w)\n",
    "rmse(y_train, y_pred_train)"
   ]
  },
  {
   "cell_type": "code",
   "execution_count": 35,
   "id": "0813a324-5e01-4e07-848b-73c38e47b4d8",
   "metadata": {},
   "outputs": [
    {
     "name": "stdout",
     "output_type": "stream",
     "text": [
      "[[2.000e+02 4.000e+00 2.500e+01 1.900e+01 1.385e+03 0.000e+00]\n",
      " [2.410e+02 4.000e+00 2.900e+01 2.200e+01 6.170e+02 0.000e+00]\n",
      " [1.600e+02 4.000e+00 3.600e+01 2.600e+01 5.657e+03 0.000e+00]\n",
      " ...\n",
      " [3.320e+02 8.000e+00 2.300e+01 2.000e+01 1.624e+03 0.000e+00]\n",
      " [1.480e+02 4.000e+00 3.400e+01 2.400e+01 4.360e+02 0.000e+00]\n",
      " [2.900e+02 6.000e+00 2.500e+01 1.800e+01 1.720e+03 0.000e+00]]\n"
     ]
    }
   ],
   "source": [
    "# validating the new feature in the model\n",
    "X_val = prepare_X(df_val)\n",
    "y_pred_val = w_0 +  X_val.dot(w)\n",
    "print(X_val)"
   ]
  },
  {
   "cell_type": "code",
   "execution_count": 36,
   "id": "376623cf-729f-4001-a50b-213b6be8b5cb",
   "metadata": {},
   "outputs": [
    {
     "data": {
      "text/plain": [
       "np.float64(1.5195933576176703)"
      ]
     },
     "execution_count": 36,
     "metadata": {},
     "output_type": "execute_result"
    }
   ],
   "source": [
    "rmse(y_val, y_pred_val)"
   ]
  },
  {
   "cell_type": "code",
   "execution_count": 37,
   "id": "ede6be17-ddf7-4ddf-b24e-ac0f4bddc470",
   "metadata": {},
   "outputs": [
    {
     "data": {
      "text/plain": [
       "<matplotlib.legend.Legend at 0x26a61e6b2c0>"
      ]
     },
     "execution_count": 37,
     "metadata": {},
     "output_type": "execute_result"
    },
    {
     "data": {
      "image/png": "[encoded data removed]",
      "text/plain": [
       "<Figure size 640x480 with 1 Axes>"
      ]
     },
     "metadata": {},
     "output_type": "display_data"
    }
   ],
   "source": [
    "# to have a look at our predicted vales and the actual values, we plot both values on a histogram\n",
    "sns.histplot(y_pred_train, label = \"prediction\")\n",
    "sns.histplot(y_train, label = \"actual\")\n",
    "plt.legend()"
   ]
  },
  {
   "cell_type": "code",
   "execution_count": 38,
   "id": "97e686bf-9cfc-4019-b7ad-238a414642f5",
   "metadata": {},
   "outputs": [
    {
     "data": {
      "text/html": [
       "<div>\n",
       "<style scoped>\n",
       "    .dataframe tbody tr th:only-of-type {\n",
       "        vertical-align: middle;\n",
       "    }\n",
       "\n",
       "    .dataframe tbody tr th {\n",
       "        vertical-align: top;\n",
       "    }\n",
       "\n",
       "    .dataframe thead th {\n",
       "        text-align: right;\n",
       "    }\n",
       "</style>\n",
       "<table border=\"1\" class=\"dataframe\">\n",
       "  <thead>\n",
       "    <tr style=\"text-align: right;\">\n",
       "      <th></th>\n",
       "      <th>make</th>\n",
       "      <th>model</th>\n",
       "      <th>year</th>\n",
       "      <th>engine_fuel_type</th>\n",
       "      <th>engine_hp</th>\n",
       "      <th>engine_cylinders</th>\n",
       "      <th>transmission_type</th>\n",
       "      <th>driven_wheels</th>\n",
       "      <th>number_of_doors</th>\n",
       "      <th>market_category</th>\n",
       "      <th>vehicle_size</th>\n",
       "      <th>vehicle_style</th>\n",
       "      <th>highway_mpg</th>\n",
       "      <th>city_mpg</th>\n",
       "      <th>popularity</th>\n",
       "      <th>msrp</th>\n",
       "    </tr>\n",
       "  </thead>\n",
       "  <tbody>\n",
       "    <tr>\n",
       "      <th>0</th>\n",
       "      <td>bmw</td>\n",
       "      <td>1_series_m</td>\n",
       "      <td>2011</td>\n",
       "      <td>premium_unleaded_(required)</td>\n",
       "      <td>335.0</td>\n",
       "      <td>6.0</td>\n",
       "      <td>manual</td>\n",
       "      <td>rear_wheel_drive</td>\n",
       "      <td>2.0</td>\n",
       "      <td>factory_tuner,luxury,high-performance</td>\n",
       "      <td>compact</td>\n",
       "      <td>coupe</td>\n",
       "      <td>26</td>\n",
       "      <td>19</td>\n",
       "      <td>3916</td>\n",
       "      <td>46135</td>\n",
       "    </tr>\n",
       "    <tr>\n",
       "      <th>1</th>\n",
       "      <td>bmw</td>\n",
       "      <td>1_series</td>\n",
       "      <td>2011</td>\n",
       "      <td>premium_unleaded_(required)</td>\n",
       "      <td>300.0</td>\n",
       "      <td>6.0</td>\n",
       "      <td>manual</td>\n",
       "      <td>rear_wheel_drive</td>\n",
       "      <td>2.0</td>\n",
       "      <td>luxury,performance</td>\n",
       "      <td>compact</td>\n",
       "      <td>convertible</td>\n",
       "      <td>28</td>\n",
       "      <td>19</td>\n",
       "      <td>3916</td>\n",
       "      <td>40650</td>\n",
       "    </tr>\n",
       "    <tr>\n",
       "      <th>2</th>\n",
       "      <td>bmw</td>\n",
       "      <td>1_series</td>\n",
       "      <td>2011</td>\n",
       "      <td>premium_unleaded_(required)</td>\n",
       "      <td>300.0</td>\n",
       "      <td>6.0</td>\n",
       "      <td>manual</td>\n",
       "      <td>rear_wheel_drive</td>\n",
       "      <td>2.0</td>\n",
       "      <td>luxury,high-performance</td>\n",
       "      <td>compact</td>\n",
       "      <td>coupe</td>\n",
       "      <td>28</td>\n",
       "      <td>20</td>\n",
       "      <td>3916</td>\n",
       "      <td>36350</td>\n",
       "    </tr>\n",
       "    <tr>\n",
       "      <th>3</th>\n",
       "      <td>bmw</td>\n",
       "      <td>1_series</td>\n",
       "      <td>2011</td>\n",
       "      <td>premium_unleaded_(required)</td>\n",
       "      <td>230.0</td>\n",
       "      <td>6.0</td>\n",
       "      <td>manual</td>\n",
       "      <td>rear_wheel_drive</td>\n",
       "      <td>2.0</td>\n",
       "      <td>luxury,performance</td>\n",
       "      <td>compact</td>\n",
       "      <td>coupe</td>\n",
       "      <td>28</td>\n",
       "      <td>18</td>\n",
       "      <td>3916</td>\n",
       "      <td>29450</td>\n",
       "    </tr>\n",
       "    <tr>\n",
       "      <th>4</th>\n",
       "      <td>bmw</td>\n",
       "      <td>1_series</td>\n",
       "      <td>2011</td>\n",
       "      <td>premium_unleaded_(required)</td>\n",
       "      <td>230.0</td>\n",
       "      <td>6.0</td>\n",
       "      <td>manual</td>\n",
       "      <td>rear_wheel_drive</td>\n",
       "      <td>2.0</td>\n",
       "      <td>luxury</td>\n",
       "      <td>compact</td>\n",
       "      <td>convertible</td>\n",
       "      <td>28</td>\n",
       "      <td>18</td>\n",
       "      <td>3916</td>\n",
       "      <td>34500</td>\n",
       "    </tr>\n",
       "  </tbody>\n",
       "</table>\n",
       "</div>"
      ],
      "text/plain": [
       "  make       model  year             engine_fuel_type  engine_hp  \\\n",
       "0  bmw  1_series_m  2011  premium_unleaded_(required)      335.0   \n",
       "1  bmw    1_series  2011  premium_unleaded_(required)      300.0   \n",
       "2  bmw    1_series  2011  premium_unleaded_(required)      300.0   \n",
       "3  bmw    1_series  2011  premium_unleaded_(required)      230.0   \n",
       "4  bmw    1_series  2011  premium_unleaded_(required)      230.0   \n",
       "\n",
       "   engine_cylinders transmission_type     driven_wheels  number_of_doors  \\\n",
       "0               6.0            manual  rear_wheel_drive              2.0   \n",
       "1               6.0            manual  rear_wheel_drive              2.0   \n",
       "2               6.0            manual  rear_wheel_drive              2.0   \n",
       "3               6.0            manual  rear_wheel_drive              2.0   \n",
       "4               6.0            manual  rear_wheel_drive              2.0   \n",
       "\n",
       "                         market_category vehicle_size vehicle_style  \\\n",
       "0  factory_tuner,luxury,high-performance      compact         coupe   \n",
       "1                     luxury,performance      compact   convertible   \n",
       "2                luxury,high-performance      compact         coupe   \n",
       "3                     luxury,performance      compact         coupe   \n",
       "4                                 luxury      compact   convertible   \n",
       "\n",
       "   highway_mpg  city_mpg  popularity   msrp  \n",
       "0           26        19        3916  46135  \n",
       "1           28        19        3916  40650  \n",
       "2           28        20        3916  36350  \n",
       "3           28        18        3916  29450  \n",
       "4           28        18        3916  34500  "
      ]
     },
     "execution_count": 38,
     "metadata": {},
     "output_type": "execute_result"
    }
   ],
   "source": [
    "df.head()"
   ]
  },
  {
   "cell_type": "code",
   "execution_count": 39,
   "id": "4d4601b7-d7ba-4a41-af5f-3ade7ac4813f",
   "metadata": {},
   "outputs": [
    {
     "data": {
      "text/plain": [
       "array(['bmw', 'audi', 'fiat', 'mercedes-benz', 'chrysler', 'nissan'],\n",
       "      dtype=object)"
      ]
     },
     "execution_count": 39,
     "metadata": {},
     "output_type": "execute_result"
    }
   ],
   "source": [
    "df[\"make\"].unique()[0:6]"
   ]
  },
  {
   "cell_type": "code",
   "execution_count": 40,
   "id": "30806918-25b0-4128-b8c6-fac69ea1d089",
   "metadata": {},
   "outputs": [],
   "source": [
    "# for v in df[\"make\"].unique()[0:6]:\n",
    "#     features = f\"is_make_{v}\"\n",
    "#     df[feature] = (df[\"make\"] == v).astype(int)\n",
    "#     features.append(feature)"
   ]
  },
  {
   "cell_type": "code",
   "execution_count": 41,
   "id": "5908fa2a-f23f-40f1-9a1a-46e7ff4ea112",
   "metadata": {},
   "outputs": [],
   "source": [
    "def prepare_X(df):\n",
    "    df = df.copy()\n",
    "    features = base.copy()\n",
    "\n",
    "    df[\"age\"] = date.today().year - df_train[\"year\"]\n",
    "    features.append(\"age\")\n",
    "\n",
    "    for v in [2, 3, 4]:\n",
    "        feature = f\"num_doors_{v}\"\n",
    "        df[feature] = (df[\"number_of_doors\"] == v).astype(int)\n",
    "        features.append(feature)\n",
    "\n",
    "\n",
    "    for v in df[\"make\"].unique()[0:6]:\n",
    "        feature = f\"is_make_{v}\"\n",
    "        df[feature] = (df[\"make\"] == v).astype(int)\n",
    "        features.append(feature)\n",
    "    \n",
    "    df_num = df[features]\n",
    "    df_num = df_num.fillna(0)\n",
    "    X = df_num.values\n",
    "    return X"
   ]
  },
  {
   "cell_type": "code",
   "execution_count": 42,
   "id": "9bf642fc-8ad0-4cc7-8e11-3c5f6531bac8",
   "metadata": {},
   "outputs": [
    {
     "data": {
      "text/plain": [
       "np.float64(0.5055477627474108)"
      ]
     },
     "execution_count": 42,
     "metadata": {},
     "output_type": "execute_result"
    }
   ],
   "source": [
    "# lets check if these features improve our rmse score\n",
    "X_train = prepare_X(df_train)\n",
    "w_0, w = train_linear_regression(X_train, y_train)\n",
    "y_pred = w_0 + X_train.dot(w)\n",
    "rmse(y_train, y_pred)"
   ]
  },
  {
   "cell_type": "code",
   "execution_count": 43,
   "id": "0dbd2b8b-3bd9-4d72-82c8-44675da19d09",
   "metadata": {},
   "outputs": [],
   "source": [
    "X_val = prepare_X(df_val)\n",
    "y_pred = w_0 + X_val.dot(w)"
   ]
  },
  {
   "cell_type": "code",
   "execution_count": 44,
   "id": "fe26cb3b-62f9-424e-880c-85838609365e",
   "metadata": {},
   "outputs": [
    {
     "data": {
      "text/plain": [
       "np.float64(1.6170867864104659)"
      ]
     },
     "execution_count": 44,
     "metadata": {},
     "output_type": "execute_result"
    }
   ],
   "source": [
    "rmse(y_val, y_pred)"
   ]
  },
  {
   "cell_type": "code",
   "execution_count": 45,
   "id": "8345adde-08b3-4b92-b591-5498c563070a",
   "metadata": {},
   "outputs": [],
   "source": [
    "# lets encode more categorical faeatures\n",
    "def prepare_X(df):\n",
    "    df = df.copy()\n",
    "    features = base.copy()\n",
    "\n",
    "    df[\"age\"] = date.today().year - df_train[\"year\"]\n",
    "    features.append(\"age\")\n",
    "\n",
    "    for v in [2, 3, 4]:\n",
    "        feature = f\"num_doors_{v}\"\n",
    "        df[feature] = (df[\"number_of_doors\"] == v).astype(int)\n",
    "        features.append(feature)\n",
    "\n",
    "\n",
    "    for v in df[\"make\"].unique()[0:6]:\n",
    "        feature = f\"is_make_{v}\"\n",
    "        df[feature] = (df[\"make\"] == v).astype(int)\n",
    "        features.append(feature)\n",
    "\n",
    "    for v in [\"regular_unleaded\", \"premium_unleaded_(required)\",\n",
    "             \"premium_unleaded_(recommended)\",\n",
    "             \"flex-fuel_(unleaded/e85)\"]:\n",
    "        feature = f\"is_type_{v}\"\n",
    "        df[feature] = (df[\"engine_fuel_type\"] == v).astype(int)\n",
    "        features.append(feature)\n",
    "\n",
    "    for v in [\"automatic\", \"manual\", \"automated_manual\"]:\n",
    "        feature = f\"is_transmission_{v}\"\n",
    "        df[feature] = (df[\"transmission_type\"] == v).astype(int)\n",
    "        features.append(feature)\n",
    "        \n",
    "    for v in ['front_wheel_drive', 'rear_wheel_drive',\n",
    "             'all_wheel_drive', 'four_wheel_drive']:\n",
    "        feature = f\"is_driven_wheels_{v}\"\n",
    "        df[feature] = (df[\"driven_wheels\"] == v).astype(int)\n",
    "        features.append(feature)\n",
    "\n",
    "    for v in ['crossover', 'flex_fuel', 'luxury',\n",
    "             'luxury,performance', 'hatchback']:\n",
    "        feature = f\"is_mc_{v}\"\n",
    "        df[feature] = (df[\"market_category\"] == v).astype(int)\n",
    "        features.append(feature)\n",
    "\n",
    "    for v in ['compact', 'midsize', 'large']:\n",
    "        feature = f\"is_size_{v}\"\n",
    "        df[feature] = (df[\"vehicle_size\"] == v).astype(int)\n",
    "        features.append(feature)\n",
    "\n",
    "    for v in ['sedan', '4dr_suv', 'coupe', 'convertible', \n",
    "             '4dr_hatchback']:\n",
    "        feature = f\"is_style_{v}\"\n",
    "        df[feature] = (df[\"vehicle_style\"] == v).astype(int)\n",
    "        features.append(feature)\n",
    "    \n",
    "    df_num = df[features]\n",
    "    df_num = df_num.fillna(0)\n",
    "    X = df_num.values\n",
    "    return X"
   ]
  },
  {
   "cell_type": "code",
   "execution_count": 46,
   "id": "1264e848-201d-48fe-9e79-385fc7e75a7a",
   "metadata": {},
   "outputs": [],
   "source": [
    "# lets test out the model with the new features included\n",
    "X_train = prepare_X(df_train)\n",
    "w_0, w = train_linear_regression(X_train, y_train)\n",
    "\n",
    "X_val = prepare_X(df_val)\n",
    "y_pred = w_0 + X_val.dot(w)"
   ]
  },
  {
   "cell_type": "code",
   "execution_count": 47,
   "id": "319518cd-11b4-4ce3-9ee3-33802aeb5f34",
   "metadata": {},
   "outputs": [
    {
     "data": {
      "text/plain": [
       "np.float64(200.76129360705986)"
      ]
     },
     "execution_count": 47,
     "metadata": {},
     "output_type": "execute_result"
    }
   ],
   "source": [
    "rmse(y_val, y_pred)"
   ]
  },
  {
   "cell_type": "code",
   "execution_count": 48,
   "id": "d7094780-471e-40c7-a578-e03f42dcd0fb",
   "metadata": {},
   "outputs": [],
   "source": [
    "# implementing Linear Regression with regularization using numpy\n",
    "def train_linear_regressio_reg(X, y, r = 0.0):\n",
    "    # Adding the dummy column\n",
    "    ones = np.ones(X.shape[0])\n",
    "    X = np.column_stack([ones, X])\n",
    "\n",
    "    # normal equation formula\n",
    "    XTX = X.T.dot(X)\n",
    "\n",
    "    # Adds r to the main diagonal of XTX\n",
    "    reg = r * np.eye(XTX.shape[0])\n",
    "    XTX = XTX + reg\n",
    "    \n",
    "    XTX_inv = np.linalg.inv(XTX)\n",
    "    w = XTX_inv.dot(X.T).dot(y)\n",
    "    return w[0], w[1:]"
   ]
  },
  {
   "cell_type": "code",
   "execution_count": 49,
   "id": "13541d04-1117-422f-bb32-82b3fb93518e",
   "metadata": {},
   "outputs": [
    {
     "name": "stdout",
     "output_type": "stream",
     "text": [
      "    0, -3725260102710303.00, -18.82, -79.21\n",
      "0.001, 7.57, 0.23, -0.16\n",
      " 0.01, 7.56, 0.23, -0.15\n",
      "  0.1, 7.42, 0.23, -0.13\n",
      "    1, 6.55, 0.23, 0.08\n",
      "   10, 4.61, 0.19, 0.88\n"
     ]
    }
   ],
   "source": [
    "# lets check what happens with our weights for different values of r\n",
    "for r in [0, 0.001, 0.01, 0.1, 1, 10]:\n",
    "    w_0, w = train_linear_regressio_reg(X_train, y_train, r = r)\n",
    "    print('%5s, %.2f, %.2f, %.2f' % (r, w_0, w[13], w[21]))"
   ]
  },
  {
   "cell_type": "code",
   "execution_count": 50,
   "id": "ca8ef79b-bc5e-4774-9259-d92ae17a01b6",
   "metadata": {},
   "outputs": [],
   "source": [
    "X_train = prepare_X(df_train)\n",
    "w_0, w = train_linear_regressio_reg(X_train, y_train, r = 0.001)\n",
    "X_val = prepare_X(df_val)\n",
    "y_pred = w_0 + X_train.dot(w)"
   ]
  },
  {
   "cell_type": "code",
   "execution_count": 51,
   "id": "016fe534-2ea8-477a-8733-e1703989b80e",
   "metadata": {},
   "outputs": [
    {
     "data": {
      "text/plain": [
       "np.float64(0.4611741014198279)"
      ]
     },
     "execution_count": 51,
     "metadata": {},
     "output_type": "execute_result"
    }
   ],
   "source": [
    "rmse(y_train, y_pred)"
   ]
  },
  {
   "cell_type": "code",
   "execution_count": 52,
   "id": "e655b000-2316-4dfa-8024-32b15d77020b",
   "metadata": {},
   "outputs": [
    {
     "data": {
      "text/plain": [
       "39"
      ]
     },
     "execution_count": 52,
     "metadata": {},
     "output_type": "execute_result"
    }
   ],
   "source": [
    "len(w)"
   ]
  },
  {
   "cell_type": "code",
   "execution_count": 53,
   "id": "2d6c2a27-e06e-4c2b-915c-c36dd5fceaff",
   "metadata": {},
   "outputs": [
    {
     "name": "stdout",
     "output_type": "stream",
     "text": [
      "1e-06 1.543118174731952\n",
      "0.0001 1.5431088114471934\n",
      "0.001 1.5430794645746184\n",
      "0.01 1.5427865911124738\n",
      "0.1 1.5399196933377775\n",
      "1 1.5155822935267373\n",
      "5 1.4449569268248537\n",
      "10 1.386177178532269\n",
      "20 1.301837966102226\n"
     ]
    }
   ],
   "source": [
    "# lets try other values of r\n",
    "X_train = prepare_X(df_train)\n",
    "X_val = prepare_X(df_val)\n",
    "\n",
    "for r in [0.000001, 0.0001, 0.001, 0.01, 0.1, 1, 5, 10, 20]:\n",
    "    w_0, w = train_linear_regressio_reg(X_train, y_train, r)\n",
    "    y_pred = w_0 + X_val.dot(w)\n",
    "    print(f\"{r}\", rmse(y_val, y_pred))"
   ]
  },
  {
   "cell_type": "code",
   "execution_count": 54,
   "id": "b2724221-f0c8-4749-8692-00c070b06400",
   "metadata": {},
   "outputs": [
    {
     "name": "stdout",
     "output_type": "stream",
     "text": [
      "1e-06 0.46117409749780863\n",
      "0.0001 0.46117409751464716\n",
      "0.001 0.4611741014198279\n",
      "0.01 0.4611744877751249\n",
      "0.1 0.461209279115223\n",
      "1 0.4628010486901428\n",
      "5 0.4705395925239323\n",
      "10 0.4783689880400318\n",
      "20 0.4926325815555197\n"
     ]
    }
   ],
   "source": [
    "# lets try other values of r\n",
    "X_train = prepare_X(df_train)\n",
    "X_val = prepare_X(df_val)\n",
    "\n",
    "for r in [0.000001, 0.0001, 0.001, 0.01, 0.1, 1, 5, 10, 20]:\n",
    "    w_0, w = train_linear_regressio_reg(X_train, y_train, r)\n",
    "    y_pred = w_0 + X_train.dot(w)\n",
    "    print(f\"{r}\", rmse(y_train, y_pred))"
   ]
  },
  {
   "cell_type": "code",
   "execution_count": null,
   "id": "33b95875-449d-418a-af2e-761b2bb09f8c",
   "metadata": {},
   "outputs": [],
   "source": []
  }
 ],
 "metadata": {
  "kernelspec": {
   "display_name": "Python 3 (ipykernel)",
   "language": "python",
   "name": "python3"
  },
  "language_info": {
   "codemirror_mode": {
    "name": "ipython",
    "version": 3
   },
   "file_extension": ".py",
   "mimetype": "text/x-python",
   "name": "python",
   "nbconvert_exporter": "python",
   "pygments_lexer": "ipython3",
   "version": "3.12.7"
  }
 },
 "nbformat": 4,
 "nbformat_minor": 5
}
